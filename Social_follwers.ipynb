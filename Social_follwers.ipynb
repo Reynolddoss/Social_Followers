{
 "cells": [
  {
   "cell_type": "code",
   "execution_count": 17,
   "metadata": {},
   "outputs": [],
   "source": [
    "import pandas as pd\n",
    "import numpy as np\n",
    "import scipy.stats as stats\n",
    "import pylab as pl\n",
    "%matplotlib inline\n",
    "import matplotlib.pyplot as plt"
   ]
  },
  {
   "cell_type": "code",
   "execution_count": 2,
   "metadata": {
    "collapsed": true
   },
   "outputs": [],
   "source": [
    "data = pd.read_csv('followers.csv')"
   ]
  },
  {
   "cell_type": "code",
   "execution_count": 3,
   "metadata": {},
   "outputs": [
    {
     "data": {
      "text/plain": [
       "array(['Unnamed: 0', 'data_properties.twitter_followers',\n",
       "       'data_properties.facebook_followers',\n",
       "       'data_properties.instagram_followers', 'data_properties.ppp_country'], dtype=object)"
      ]
     },
     "execution_count": 3,
     "metadata": {},
     "output_type": "execute_result"
    }
   ],
   "source": [
    "data.columns.values\n"
   ]
  },
  {
   "cell_type": "code",
   "execution_count": 4,
   "metadata": {
    "collapsed": true
   },
   "outputs": [],
   "source": [
    "data = data.drop(['Unnamed: 0'],axis=1)"
   ]
  },
  {
   "cell_type": "code",
   "execution_count": 5,
   "metadata": {
    "collapsed": true
   },
   "outputs": [],
   "source": [
    "collection = data"
   ]
  },
  {
   "cell_type": "code",
   "execution_count": 6,
   "metadata": {},
   "outputs": [
    {
     "data": {
      "text/html": [
       "<div>\n",
       "<style>\n",
       "    .dataframe thead tr:only-child th {\n",
       "        text-align: right;\n",
       "    }\n",
       "\n",
       "    .dataframe thead th {\n",
       "        text-align: left;\n",
       "    }\n",
       "\n",
       "    .dataframe tbody tr th {\n",
       "        vertical-align: top;\n",
       "    }\n",
       "</style>\n",
       "<table border=\"1\" class=\"dataframe\">\n",
       "  <thead>\n",
       "    <tr style=\"text-align: right;\">\n",
       "      <th></th>\n",
       "      <th>data_properties.twitter_followers</th>\n",
       "      <th>data_properties.facebook_followers</th>\n",
       "      <th>data_properties.instagram_followers</th>\n",
       "      <th>data_properties.ppp_country</th>\n",
       "    </tr>\n",
       "  </thead>\n",
       "  <tbody>\n",
       "    <tr>\n",
       "      <th>0</th>\n",
       "      <td>57518</td>\n",
       "      <td>47636</td>\n",
       "      <td>10836</td>\n",
       "      <td>42609</td>\n",
       "    </tr>\n",
       "    <tr>\n",
       "      <th>1</th>\n",
       "      <td>161302</td>\n",
       "      <td>0</td>\n",
       "      <td>0</td>\n",
       "      <td>57467</td>\n",
       "    </tr>\n",
       "    <tr>\n",
       "      <th>2</th>\n",
       "      <td>151333</td>\n",
       "      <td>2509088</td>\n",
       "      <td>574057</td>\n",
       "      <td>42609</td>\n",
       "    </tr>\n",
       "    <tr>\n",
       "      <th>3</th>\n",
       "      <td>52980</td>\n",
       "      <td>46268</td>\n",
       "      <td>4560</td>\n",
       "      <td>42609</td>\n",
       "    </tr>\n",
       "    <tr>\n",
       "      <th>4</th>\n",
       "      <td>158313</td>\n",
       "      <td>330064</td>\n",
       "      <td>75019</td>\n",
       "      <td>57467</td>\n",
       "    </tr>\n",
       "  </tbody>\n",
       "</table>\n",
       "</div>"
      ],
      "text/plain": [
       "   data_properties.twitter_followers  data_properties.facebook_followers  \\\n",
       "0                              57518                               47636   \n",
       "1                             161302                                   0   \n",
       "2                             151333                             2509088   \n",
       "3                              52980                               46268   \n",
       "4                             158313                              330064   \n",
       "\n",
       "   data_properties.instagram_followers  data_properties.ppp_country  \n",
       "0                                10836                        42609  \n",
       "1                                    0                        57467  \n",
       "2                               574057                        42609  \n",
       "3                                 4560                        42609  \n",
       "4                                75019                        57467  "
      ]
     },
     "execution_count": 6,
     "metadata": {},
     "output_type": "execute_result"
    }
   ],
   "source": [
    "data.head()"
   ]
  },
  {
   "cell_type": "code",
   "execution_count": 7,
   "metadata": {
    "collapsed": true
   },
   "outputs": [],
   "source": [
    "data = data.replace(0,np.nan)\n",
    "data = data.dropna(how='any',axis=0)"
   ]
  },
  {
   "cell_type": "code",
   "execution_count": 23,
   "metadata": {},
   "outputs": [
    {
     "data": {
      "text/plain": [
       "Text(0.5,0,'fb')"
      ]
     },
     "execution_count": 23,
     "metadata": {},
     "output_type": "execute_result"
    },
    {
     "data": {
      "image/png": "[encoded data removed]",
      "text/plain": [
       "<matplotlib.figure.Figure at 0x7f2a029593c8>"
      ]
     },
     "metadata": {},
     "output_type": "display_data"
    }
   ],
   "source": [
    "#check for outliers\n",
    "fig,ax = plt.subplots()\n",
    "ax.scatter(x=data['data_properties.facebook_followers'],\n",
    "          y=data['data_properties.instagram_followers'])\n",
    "plt.ylabel('insta')\n",
    "plt.xlabel('fb')"
   ]
  },
  {
   "cell_type": "code",
   "execution_count": 8,
   "metadata": {
    "collapsed": true
   },
   "outputs": [],
   "source": [
    "graph_data = sorted(data['data_properties.instagram_followers'])"
   ]
  },
  {
   "cell_type": "code",
   "execution_count": 9,
   "metadata": {
    "collapsed": true
   },
   "outputs": [],
   "source": [
    "fit = stats.norm.pdf(graph_data,np.mean(graph_data),np.std(graph_data))"
   ]
  },
  {
   "cell_type": "code",
   "execution_count": 10,
   "metadata": {},
   "outputs": [
    {
     "data": {
      "image/png": "[encoded data removed]",
      "text/plain": [
       "<matplotlib.figure.Figure at 0x7f2a0a702b00>"
      ]
     },
     "metadata": {},
     "output_type": "display_data"
    }
   ],
   "source": [
    "pl.plot(graph_data,fit,'-o')\n",
    "pl.hist(graph_data,normed=True)\n",
    "pl.show()"
   ]
  },
  {
   "cell_type": "code",
   "execution_count": 11,
   "metadata": {
    "collapsed": true
   },
   "outputs": [],
   "source": [
    "instagram_followers = np.log1p(graph_data)"
   ]
  },
  {
   "cell_type": "code",
   "execution_count": 12,
   "metadata": {},
   "outputs": [
    {
     "data": {
      "image/png": "[encoded data removed]",
      "text/plain": [
       "<matplotlib.figure.Figure at 0x7f2a0a43a748>"
      ]
     },
     "metadata": {},
     "output_type": "display_data"
    }
   ],
   "source": [
    "fit = stats.norm.pdf(instagram_followers,np.mean(instagram_followers),np.std(instagram_followers))\n",
    "pl.plot(instagram_followers,fit,'-o')\n",
    "pl.hist(instagram_followers,normed=True)\n",
    "pl.show()"
   ]
  },
  {
   "cell_type": "code",
   "execution_count": 13,
   "metadata": {},
   "outputs": [
    {
     "data": {
      "text/plain": [
       "Index(['data_properties.twitter_followers',\n",
       "       'data_properties.facebook_followers',\n",
       "       'data_properties.instagram_followers', 'data_properties.ppp_country'],\n",
       "      dtype='object')"
      ]
     },
     "execution_count": 13,
     "metadata": {},
     "output_type": "execute_result"
    }
   ],
   "source": [
    "data.columns"
   ]
  },
  {
   "cell_type": "code",
   "execution_count": 14,
   "metadata": {
    "collapsed": true
   },
   "outputs": [],
   "source": [
    "data['data_properties.instagram_followers'] = np.log1p(data['data_properties.instagram_followers'])\n",
    "#to reverse back np.expm1(data['data_properties.instagram_followers'])"
   ]
  },
  {
   "cell_type": "code",
   "execution_count": 15,
   "metadata": {},
   "outputs": [
    {
     "data": {
      "text/html": [
       "<div>\n",
       "<style>\n",
       "    .dataframe thead tr:only-child th {\n",
       "        text-align: right;\n",
       "    }\n",
       "\n",
       "    .dataframe thead th {\n",
       "        text-align: left;\n",
       "    }\n",
       "\n",
       "    .dataframe tbody tr th {\n",
       "        vertical-align: top;\n",
       "    }\n",
       "</style>\n",
       "<table border=\"1\" class=\"dataframe\">\n",
       "  <thead>\n",
       "    <tr style=\"text-align: right;\">\n",
       "      <th></th>\n",
       "      <th>data_properties.twitter_followers</th>\n",
       "      <th>data_properties.facebook_followers</th>\n",
       "      <th>data_properties.instagram_followers</th>\n",
       "      <th>data_properties.ppp_country</th>\n",
       "    </tr>\n",
       "  </thead>\n",
       "  <tbody>\n",
       "    <tr>\n",
       "      <th>0</th>\n",
       "      <td>57518.0</td>\n",
       "      <td>47636.0</td>\n",
       "      <td>9.290721</td>\n",
       "      <td>42609</td>\n",
       "    </tr>\n",
       "    <tr>\n",
       "      <th>2</th>\n",
       "      <td>151333.0</td>\n",
       "      <td>2509088.0</td>\n",
       "      <td>13.260486</td>\n",
       "      <td>42609</td>\n",
       "    </tr>\n",
       "    <tr>\n",
       "      <th>3</th>\n",
       "      <td>52980.0</td>\n",
       "      <td>46268.0</td>\n",
       "      <td>8.425297</td>\n",
       "      <td>42609</td>\n",
       "    </tr>\n",
       "    <tr>\n",
       "      <th>4</th>\n",
       "      <td>158313.0</td>\n",
       "      <td>330064.0</td>\n",
       "      <td>11.225510</td>\n",
       "      <td>57467</td>\n",
       "    </tr>\n",
       "    <tr>\n",
       "      <th>5</th>\n",
       "      <td>155375.0</td>\n",
       "      <td>372754.0</td>\n",
       "      <td>11.123757</td>\n",
       "      <td>57467</td>\n",
       "    </tr>\n",
       "  </tbody>\n",
       "</table>\n",
       "</div>"
      ],
      "text/plain": [
       "   data_properties.twitter_followers  data_properties.facebook_followers  \\\n",
       "0                            57518.0                             47636.0   \n",
       "2                           151333.0                           2509088.0   \n",
       "3                            52980.0                             46268.0   \n",
       "4                           158313.0                            330064.0   \n",
       "5                           155375.0                            372754.0   \n",
       "\n",
       "   data_properties.instagram_followers  data_properties.ppp_country  \n",
       "0                             9.290721                        42609  \n",
       "2                            13.260486                        42609  \n",
       "3                             8.425297                        42609  \n",
       "4                            11.225510                        57467  \n",
       "5                            11.123757                        57467  "
      ]
     },
     "execution_count": 15,
     "metadata": {},
     "output_type": "execute_result"
    }
   ],
   "source": [
    "data.head()"
   ]
  },
  {
   "cell_type": "code",
   "execution_count": null,
   "metadata": {
    "collapsed": true
   },
   "outputs": [],
   "source": []
  }
 ],
 "metadata": {
  "kernelspec": {
   "display_name": "Python 3",
   "language": "python",
   "name": "python3"
  },
  "language_info": {
   "codemirror_mode": {
    "name": "ipython",
    "version": 3
   },
   "file_extension": ".py",
   "mimetype": "text/x-python",
   "name": "python",
   "nbconvert_exporter": "python",
   "pygments_lexer": "ipython3",
   "version": "3.6.3"
  }
 },
 "nbformat": 4,
 "nbformat_minor": 2
}
